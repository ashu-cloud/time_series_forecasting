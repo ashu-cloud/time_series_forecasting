{
 "cells": [
  {
   "cell_type": "code",
   "execution_count": 1,
   "metadata": {
    "colab": {
     "base_uri": "https://localhost:8080/"
    },
    "executionInfo": {
     "elapsed": 3900,
     "status": "ok",
     "timestamp": 1637783135641,
     "user": {
      "displayName": "Ashutosh Sharma",
      "photoUrl": "https://lh3.googleusercontent.com/a/default-user=s64",
      "userId": "07389445365644641859"
     },
     "user_tz": -330
    },
    "id": "q7L2CAx2gwgg",
    "outputId": "756181d3-1c63-4e47-90b6-ad33e117df0b"
   },
   "outputs": [
    {
     "name": "stdout",
     "output_type": "stream",
     "text": [
      "Requirement already satisfied: statsmodels in /usr/local/lib/python3.7/dist-packages (0.13.1)\n",
      "Requirement already satisfied: pandas>=0.25 in /usr/local/lib/python3.7/dist-packages (from statsmodels) (1.1.5)\n",
      "Requirement already satisfied: scipy>=1.3 in /usr/local/lib/python3.7/dist-packages (from statsmodels) (1.4.1)\n",
      "Requirement already satisfied: numpy>=1.17 in /usr/local/lib/python3.7/dist-packages (from statsmodels) (1.19.5)\n",
      "Requirement already satisfied: patsy>=0.5.2 in /usr/local/lib/python3.7/dist-packages (from statsmodels) (0.5.2)\n",
      "Requirement already satisfied: pytz>=2017.2 in /usr/local/lib/python3.7/dist-packages (from pandas>=0.25->statsmodels) (2018.9)\n",
      "Requirement already satisfied: python-dateutil>=2.7.3 in /usr/local/lib/python3.7/dist-packages (from pandas>=0.25->statsmodels) (2.8.2)\n",
      "Requirement already satisfied: six in /usr/local/lib/python3.7/dist-packages (from patsy>=0.5.2->statsmodels) (1.15.0)\n",
      "Drive already mounted at /content/drive; to attempt to forcibly remount, call drive.mount(\"/content/drive\", force_remount=True).\n",
      "Date: 0\n",
      "Open: 0\n",
      "High: 0\n",
      "Low: 0\n",
      "Close: 0\n",
      "Adj Close: 0\n",
      "Volume: 0\n"
     ]
    }
   ],
   "source": [
    "! pip install statsmodels --upgrade\n",
    "from google.colab import drive\n",
    "drive.mount('/content/drive')\n",
    "import pandas as pd\n",
    "from statsmodels.tsa.ar_model import AutoReg\n",
    "from statsmodels.tsa.arima.model import ARIMA\n",
    "from statsmodels.tsa.statespace.sarimax import SARIMAX\n",
    "from statsmodels.graphics.tsaplots import plot_acf, plot_pacf\n",
    "import matplotlib.pyplot as plt\n",
    "import numpy as np\n",
    "from sklearn.metrics import mean_squared_error\n",
    "from statsmodels.tsa.stattools import pacf, acf\n",
    "import seaborn as sns\n",
    "import warnings\n",
    "warnings.filterwarnings('ignore')\n",
    "from scipy import stats\n",
    "from statsmodels.tsa.stattools import adfuller\n",
    "from statsmodels.tsa.stattools import pacf, acf\n",
    "from statsmodels.tsa.seasonal import seasonal_decompose\n",
    "df = pd.read_csv('/content/drive/MyDrive/DS203 Project/TSLA.csv')\n",
    "for column in df.columns:\n",
    "    print(\"{}: {}\".format(column, df[column].isna().sum()))\n",
    "df[\"Datetime\"] = pd.to_datetime(df[\"Date\"], format='%Y-%m-%d')\n",
    "df = df[[\"Datetime\", \"Close\"]]\n",
    "df.set_index('Datetime', inplace=True)\n",
    "df = df.dropna()\n",
    "df = df.resample('W').mean()\n",
    "df = df.fillna(0)\n",
    "df.sort_index(inplace=True)"
   ]
  },
  {
   "cell_type": "code",
   "execution_count": 2,
   "metadata": {
    "colab": {
     "base_uri": "https://localhost:8080/",
     "height": 455
    },
    "executionInfo": {
     "elapsed": 26,
     "status": "ok",
     "timestamp": 1637783135644,
     "user": {
      "displayName": "Ashutosh Sharma",
      "photoUrl": "https://lh3.googleusercontent.com/a/default-user=s64",
      "userId": "07389445365644641859"
     },
     "user_tz": -330
    },
    "id": "RG9We-IjBFK2",
    "outputId": "acd2faa2-5b56-42f0-c335-3665cbf3aef7"
   },
   "outputs": [
    {
     "data": {
      "text/html": [
       "<div>\n",
       "<style scoped>\n",
       "    .dataframe tbody tr th:only-of-type {\n",
       "        vertical-align: middle;\n",
       "    }\n",
       "\n",
       "    .dataframe tbody tr th {\n",
       "        vertical-align: top;\n",
       "    }\n",
       "\n",
       "    .dataframe thead th {\n",
       "        text-align: right;\n",
       "    }\n",
       "</style>\n",
       "<table border=\"1\" class=\"dataframe\">\n",
       "  <thead>\n",
       "    <tr style=\"text-align: right;\">\n",
       "      <th></th>\n",
       "      <th>Close</th>\n",
       "    </tr>\n",
       "    <tr>\n",
       "      <th>Datetime</th>\n",
       "      <th></th>\n",
       "    </tr>\n",
       "  </thead>\n",
       "  <tbody>\n",
       "    <tr>\n",
       "      <th>2015-07-12</th>\n",
       "      <td>51.830002</td>\n",
       "    </tr>\n",
       "    <tr>\n",
       "      <th>2015-07-19</th>\n",
       "      <td>53.291599</td>\n",
       "    </tr>\n",
       "    <tr>\n",
       "      <th>2015-07-26</th>\n",
       "      <td>53.980400</td>\n",
       "    </tr>\n",
       "    <tr>\n",
       "      <th>2015-08-02</th>\n",
       "      <td>52.583601</td>\n",
       "    </tr>\n",
       "    <tr>\n",
       "      <th>2015-08-09</th>\n",
       "      <td>51.401601</td>\n",
       "    </tr>\n",
       "    <tr>\n",
       "      <th>...</th>\n",
       "      <td>...</td>\n",
       "    </tr>\n",
       "    <tr>\n",
       "      <th>2020-06-14</th>\n",
       "      <td>192.950397</td>\n",
       "    </tr>\n",
       "    <tr>\n",
       "      <th>2020-06-21</th>\n",
       "      <td>198.787198</td>\n",
       "    </tr>\n",
       "    <tr>\n",
       "      <th>2020-06-28</th>\n",
       "      <td>196.106799</td>\n",
       "    </tr>\n",
       "    <tr>\n",
       "      <th>2020-07-05</th>\n",
       "      <td>220.872498</td>\n",
       "    </tr>\n",
       "    <tr>\n",
       "      <th>2020-07-12</th>\n",
       "      <td>276.079994</td>\n",
       "    </tr>\n",
       "  </tbody>\n",
       "</table>\n",
       "<p>262 rows × 1 columns</p>\n",
       "</div>"
      ],
      "text/plain": [
       "                 Close\n",
       "Datetime              \n",
       "2015-07-12   51.830002\n",
       "2015-07-19   53.291599\n",
       "2015-07-26   53.980400\n",
       "2015-08-02   52.583601\n",
       "2015-08-09   51.401601\n",
       "...                ...\n",
       "2020-06-14  192.950397\n",
       "2020-06-21  198.787198\n",
       "2020-06-28  196.106799\n",
       "2020-07-05  220.872498\n",
       "2020-07-12  276.079994\n",
       "\n",
       "[262 rows x 1 columns]"
      ]
     },
     "execution_count": 2,
     "metadata": {},
     "output_type": "execute_result"
    }
   ],
   "source": [
    "df"
   ]
  },
  {
   "cell_type": "code",
   "execution_count": 11,
   "metadata": {
    "colab": {
     "base_uri": "https://localhost:8080/",
     "height": 455
    },
    "executionInfo": {
     "elapsed": 16,
     "status": "ok",
     "timestamp": 1637786278717,
     "user": {
      "displayName": "Ashutosh Sharma",
      "photoUrl": "https://lh3.googleusercontent.com/a/default-user=s64",
      "userId": "07389445365644641859"
     },
     "user_tz": -330
    },
    "id": "LolTRUV0hLso",
    "outputId": "871cfe4d-578b-432a-a4dd-f14766cb7ab3"
   },
   "outputs": [
    {
     "data": {
      "text/html": [
       "<div>\n",
       "<style scoped>\n",
       "    .dataframe tbody tr th:only-of-type {\n",
       "        vertical-align: middle;\n",
       "    }\n",
       "\n",
       "    .dataframe tbody tr th {\n",
       "        vertical-align: top;\n",
       "    }\n",
       "\n",
       "    .dataframe thead th {\n",
       "        text-align: right;\n",
       "    }\n",
       "</style>\n",
       "<table border=\"1\" class=\"dataframe\">\n",
       "  <thead>\n",
       "    <tr style=\"text-align: right;\">\n",
       "      <th></th>\n",
       "      <th>Close</th>\n",
       "    </tr>\n",
       "    <tr>\n",
       "      <th>Datetime</th>\n",
       "      <th></th>\n",
       "    </tr>\n",
       "  </thead>\n",
       "  <tbody>\n",
       "    <tr>\n",
       "      <th>2015-07-12</th>\n",
       "      <td>51.830002</td>\n",
       "    </tr>\n",
       "    <tr>\n",
       "      <th>2015-07-19</th>\n",
       "      <td>53.291599</td>\n",
       "    </tr>\n",
       "    <tr>\n",
       "      <th>2015-07-26</th>\n",
       "      <td>53.980400</td>\n",
       "    </tr>\n",
       "    <tr>\n",
       "      <th>2015-08-02</th>\n",
       "      <td>52.583601</td>\n",
       "    </tr>\n",
       "    <tr>\n",
       "      <th>2015-08-09</th>\n",
       "      <td>51.401601</td>\n",
       "    </tr>\n",
       "    <tr>\n",
       "      <th>...</th>\n",
       "      <td>...</td>\n",
       "    </tr>\n",
       "    <tr>\n",
       "      <th>2020-06-14</th>\n",
       "      <td>192.950397</td>\n",
       "    </tr>\n",
       "    <tr>\n",
       "      <th>2020-06-21</th>\n",
       "      <td>198.787198</td>\n",
       "    </tr>\n",
       "    <tr>\n",
       "      <th>2020-06-28</th>\n",
       "      <td>196.106799</td>\n",
       "    </tr>\n",
       "    <tr>\n",
       "      <th>2020-07-05</th>\n",
       "      <td>220.872498</td>\n",
       "    </tr>\n",
       "    <tr>\n",
       "      <th>2020-07-12</th>\n",
       "      <td>276.079994</td>\n",
       "    </tr>\n",
       "  </tbody>\n",
       "</table>\n",
       "<p>262 rows × 1 columns</p>\n",
       "</div>"
      ],
      "text/plain": [
       "                 Close\n",
       "Datetime              \n",
       "2015-07-12   51.830002\n",
       "2015-07-19   53.291599\n",
       "2015-07-26   53.980400\n",
       "2015-08-02   52.583601\n",
       "2015-08-09   51.401601\n",
       "...                ...\n",
       "2020-06-14  192.950397\n",
       "2020-06-21  198.787198\n",
       "2020-06-28  196.106799\n",
       "2020-07-05  220.872498\n",
       "2020-07-12  276.079994\n",
       "\n",
       "[262 rows x 1 columns]"
      ]
     },
     "execution_count": 11,
     "metadata": {},
     "output_type": "execute_result"
    }
   ],
   "source": [
    "def stationarity_test(df,series_name,index_name):\n",
    "    result = adfuller(df[series_name])\n",
    "    statistic = result[0]\n",
    "    p_value = result[1]\n",
    "    print(\"Dickey-fuller test : \", p_value)\n",
    "    if p_value < 0.05:\n",
    "        print(\"Time Series is Stationary\")\n",
    "    else:\n",
    "        print(\"Time Series is not stationary\")\n",
    "\n",
    "def rolling(df,series_name,index_name,n):\n",
    "    df2 = df.copy()\n",
    "    roll_avg = df2[series_name].rolling(n).mean()\n",
    "    #roll_avg.fill_na(0)\n",
    "    plt.figure(figsize = (8,6))\n",
    "    #plt.subplot(2,1,1)\n",
    "    plt.plot(df2[series_name],label = series_name)\n",
    "    plt.xlabel(index_name,size=12)\n",
    "    plt.ylabel(series_name,size=12)\n",
    "    roll_std = df[series_name].rolling(n).std()\n",
    "    df2[\"mean-std\"] = roll_avg-roll_std\n",
    "    df2[\"mean+std\"] = roll_avg+roll_std\n",
    "    df2[\"roll_avg\"] = roll_avg\n",
    "    df2[\"std\"] = roll_std\n",
    "    plt.grid(True)\n",
    "    #plt.show()\n",
    "    #plt.subplot(2,1,2)\n",
    "    #plt.figure(figsize=(16,6))\n",
    "    plt.plot(df2[\"roll_avg\"],label = \"rolling mean\")\n",
    "    plt.plot(df2[\"std\"],label = \"rolling std\")\n",
    "    #plt.xlim(\"2007-07\",\"2010-7\")\n",
    "    #plt.xlabel(index_name,size=12)\n",
    "    #sns.lineplot(y=\"mean-std\",x=index_name,data=df)\n",
    "    plt.legend()\n",
    "    plt.show()\n",
    "\n",
    "df"
   ]
  },
  {
   "cell_type": "code",
   "execution_count": 12,
   "metadata": {
    "colab": {
     "base_uri": "https://localhost:8080/",
     "height": 391
    },
    "executionInfo": {
     "elapsed": 724,
     "status": "ok",
     "timestamp": 1637786282810,
     "user": {
      "displayName": "Ashutosh Sharma",
      "photoUrl": "https://lh3.googleusercontent.com/a/default-user=s64",
      "userId": "07389445365644641859"
     },
     "user_tz": -330
    },
    "id": "SiDPwPmChcBO",
    "outputId": "7dd6592a-6d7c-4c43-d895-cb5ce33255df"
   },
   "outputs": [
    {
     "data": {
      "image/png": "[encoded data removed]",
      "text/plain": [
       "<Figure size 576x432 with 1 Axes>"
      ]
     },
     "metadata": {
      "needs_background": "light"
     },
     "output_type": "display_data"
    }
   ],
   "source": [
    "rolling(df,\"Close\",\"Datetime\",30)"
   ]
  },
  {
   "cell_type": "code",
   "execution_count": 5,
   "metadata": {
    "colab": {
     "base_uri": "https://localhost:8080/",
     "height": 455
    },
    "executionInfo": {
     "elapsed": 41,
     "status": "ok",
     "timestamp": 1637783136789,
     "user": {
      "displayName": "Ashutosh Sharma",
      "photoUrl": "https://lh3.googleusercontent.com/a/default-user=s64",
      "userId": "07389445365644641859"
     },
     "user_tz": -330
    },
    "id": "XmIVY4BEZEFe",
    "outputId": "3e01a1e5-8995-424b-ebcf-e956207e72d4"
   },
   "outputs": [
    {
     "data": {
      "text/html": [
       "<div>\n",
       "<style scoped>\n",
       "    .dataframe tbody tr th:only-of-type {\n",
       "        vertical-align: middle;\n",
       "    }\n",
       "\n",
       "    .dataframe tbody tr th {\n",
       "        vertical-align: top;\n",
       "    }\n",
       "\n",
       "    .dataframe thead th {\n",
       "        text-align: right;\n",
       "    }\n",
       "</style>\n",
       "<table border=\"1\" class=\"dataframe\">\n",
       "  <thead>\n",
       "    <tr style=\"text-align: right;\">\n",
       "      <th></th>\n",
       "      <th>Close</th>\n",
       "    </tr>\n",
       "    <tr>\n",
       "      <th>Datetime</th>\n",
       "      <th></th>\n",
       "    </tr>\n",
       "  </thead>\n",
       "  <tbody>\n",
       "    <tr>\n",
       "      <th>2015-07-12</th>\n",
       "      <td>51.830002</td>\n",
       "    </tr>\n",
       "    <tr>\n",
       "      <th>2015-07-19</th>\n",
       "      <td>53.291599</td>\n",
       "    </tr>\n",
       "    <tr>\n",
       "      <th>2015-07-26</th>\n",
       "      <td>53.980400</td>\n",
       "    </tr>\n",
       "    <tr>\n",
       "      <th>2015-08-02</th>\n",
       "      <td>52.583601</td>\n",
       "    </tr>\n",
       "    <tr>\n",
       "      <th>2015-08-09</th>\n",
       "      <td>51.401601</td>\n",
       "    </tr>\n",
       "    <tr>\n",
       "      <th>...</th>\n",
       "      <td>...</td>\n",
       "    </tr>\n",
       "    <tr>\n",
       "      <th>2020-06-14</th>\n",
       "      <td>192.950397</td>\n",
       "    </tr>\n",
       "    <tr>\n",
       "      <th>2020-06-21</th>\n",
       "      <td>198.787198</td>\n",
       "    </tr>\n",
       "    <tr>\n",
       "      <th>2020-06-28</th>\n",
       "      <td>196.106799</td>\n",
       "    </tr>\n",
       "    <tr>\n",
       "      <th>2020-07-05</th>\n",
       "      <td>220.872498</td>\n",
       "    </tr>\n",
       "    <tr>\n",
       "      <th>2020-07-12</th>\n",
       "      <td>276.079994</td>\n",
       "    </tr>\n",
       "  </tbody>\n",
       "</table>\n",
       "<p>262 rows × 1 columns</p>\n",
       "</div>"
      ],
      "text/plain": [
       "                 Close\n",
       "Datetime              \n",
       "2015-07-12   51.830002\n",
       "2015-07-19   53.291599\n",
       "2015-07-26   53.980400\n",
       "2015-08-02   52.583601\n",
       "2015-08-09   51.401601\n",
       "...                ...\n",
       "2020-06-14  192.950397\n",
       "2020-06-21  198.787198\n",
       "2020-06-28  196.106799\n",
       "2020-07-05  220.872498\n",
       "2020-07-12  276.079994\n",
       "\n",
       "[262 rows x 1 columns]"
      ]
     },
     "execution_count": 5,
     "metadata": {},
     "output_type": "execute_result"
    }
   ],
   "source": [
    "df"
   ]
  },
  {
   "cell_type": "code",
   "execution_count": 15,
   "metadata": {
    "colab": {
     "base_uri": "https://localhost:8080/"
    },
    "executionInfo": {
     "elapsed": 408,
     "status": "ok",
     "timestamp": 1637787344246,
     "user": {
      "displayName": "Ashutosh Sharma",
      "photoUrl": "https://lh3.googleusercontent.com/a/default-user=s64",
      "userId": "07389445365644641859"
     },
     "user_tz": -330
    },
    "id": "IiD_s_oahdUV",
    "outputId": "bcfb3c35-ce13-4661-ce40-d0b643718b21"
   },
   "outputs": [
    {
     "name": "stdout",
     "output_type": "stream",
     "text": [
      "Dickey-fuller test :  1.0\n",
      "Time Series is not stationary\n",
      "Dickey-fuller test :  0.9587158490428012\n",
      "Time Series is not stationary\n"
     ]
    }
   ],
   "source": [
    "stationarity_test(df,\"Close\",\"Datetime\")\n",
    "df_new = df.copy()\n",
    "df_new[\"Close\"] = df[\"Close\"]-df[\"Close\"].shift(1,fill_value=0)\n",
    "df_new[\"Close\"].fillna(0)\n",
    "stationarity_test(df_new,\"Close\",\"Datetime\")"
   ]
  },
  {
   "cell_type": "code",
   "execution_count": 7,
   "metadata": {
    "colab": {
     "base_uri": "https://localhost:8080/",
     "height": 297
    },
    "executionInfo": {
     "elapsed": 1092,
     "status": "ok",
     "timestamp": 1637783137854,
     "user": {
      "displayName": "Ashutosh Sharma",
      "photoUrl": "https://lh3.googleusercontent.com/a/default-user=s64",
      "userId": "07389445365644641859"
     },
     "user_tz": -330
    },
    "id": "gIhM7iiaheQw",
    "outputId": "8fc4b819-44d5-4c6f-f587-2a8ba8d40a53"
   },
   "outputs": [
    {
     "data": {
      "image/png": "[encoded data removed]",
      "text/plain": [
       "<Figure size 432x288 with 4 Axes>"
      ]
     },
     "metadata": {
      "needs_background": "light"
     },
     "output_type": "display_data"
    }
   ],
   "source": [
    "d=seasonal_decompose(df,model=\"additive\")\n",
    "d.plot()\n",
    "plt.show()"
   ]
  },
  {
   "cell_type": "code",
   "execution_count": 8,
   "metadata": {
    "colab": {
     "base_uri": "https://localhost:8080/",
     "height": 545
    },
    "executionInfo": {
     "elapsed": 35,
     "status": "ok",
     "timestamp": 1637783137857,
     "user": {
      "displayName": "Ashutosh Sharma",
      "photoUrl": "https://lh3.googleusercontent.com/a/default-user=s64",
      "userId": "07389445365644641859"
     },
     "user_tz": -330
    },
    "id": "Zf40j8QjmV8p",
    "outputId": "85cffff6-d1ed-40f2-8472-3d88b8546d3f"
   },
   "outputs": [
    {
     "data": {
      "image/png": "[encoded data removed]",
      "text/plain": [
       "<Figure size 432x288 with 1 Axes>"
      ]
     },
     "execution_count": 8,
     "metadata": {},
     "output_type": "execute_result"
    },
    {
     "data": {
      "image/png": "[encoded data removed]",
      "text/plain": [
       "<Figure size 432x288 with 1 Axes>"
      ]
     },
     "metadata": {
      "needs_background": "light"
     },
     "output_type": "display_data"
    }
   ],
   "source": [
    "plot_acf(df[\"Close\"], lags=50)"
   ]
  },
  {
   "cell_type": "code",
   "execution_count": 9,
   "metadata": {
    "colab": {
     "base_uri": "https://localhost:8080/",
     "height": 545
    },
    "executionInfo": {
     "elapsed": 552,
     "status": "ok",
     "timestamp": 1637783138380,
     "user": {
      "displayName": "Ashutosh Sharma",
      "photoUrl": "https://lh3.googleusercontent.com/a/default-user=s64",
      "userId": "07389445365644641859"
     },
     "user_tz": -330
    },
    "id": "BzArqYHqmZC6",
    "outputId": "942342dd-b984-4114-f6c9-b119924ee910"
   },
   "outputs": [
    {
     "data": {
      "image/png": "[encoded data removed]",
      "text/plain": [
       "<Figure size 432x288 with 1 Axes>"
      ]
     },
     "execution_count": 9,
     "metadata": {},
     "output_type": "execute_result"
    },
    {
     "data": {
      "image/png": "[encoded data removed]",
      "text/plain": [
       "<Figure size 432x288 with 1 Axes>"
      ]
     },
     "metadata": {
      "needs_background": "light"
     },
     "output_type": "display_data"
    }
   ],
   "source": [
    "plot_pacf(df[\"Close\"], lags=50)"
   ]
  }
 ],
 "metadata": {
  "colab": {
   "authorship_tag": "ABX9TyN4fDbkwpMb4r1bWplbYJnd",
   "name": "stock_eda.ipynb",
   "provenance": []
  },
  "kernelspec": {
   "display_name": "Python 3",
   "language": "python",
   "name": "python3"
  },
  "language_info": {
   "codemirror_mode": {
    "name": "ipython",
    "version": 3
   },
   "file_extension": ".py",
   "mimetype": "text/x-python",
   "name": "python",
   "nbconvert_exporter": "python",
   "pygments_lexer": "ipython3",
   "version": "3.8.2"
  }
 },
 "nbformat": 4,
 "nbformat_minor": 1
}
